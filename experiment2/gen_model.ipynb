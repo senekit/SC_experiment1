{
 "cells": [
  {
   "cell_type": "code",
   "execution_count": 1,
   "metadata": {
    "collapsed": true
   },
   "outputs": [],
   "source": [
    "import numpy as np\n",
    "\n",
    "np.random.seed(0)\n",
    "X_train_path = '../data/X_train'\n",
    "Y_train_path = '../data/Y_train'\n",
    "X_test_path = '../data/X_test'\n",
    "output_path = '../output_{}.csv'\n",
    "\n",
    "with open(X_train_path) as f:\n",
    "    next(f)\n",
    "    X_train = np.array([line.strip('\\n').split(',')[1:] for line in f], dtype = float)\n",
    "with open(Y_train_path) as f:\n",
    "    next(f)\n",
    "    Y_train = np.array([line.strip('\\n').split(',')[1] for line in f], dtype = float)\n",
    "with open(X_test_path) as f:\n",
    "    next(f)\n",
    "    X_test = np.array([line.strip('\\n').split(',')[1:] for line in f], dtype = float)\n"
   ]
  },
  {
   "cell_type": "code",
   "execution_count": 2,
   "outputs": [],
   "source": [
    "def _normalize(X, train = True, specified_column = None, X_mean = None, X_std = None):\n",
    "    # This function normalizes specific columns of X.\n",
    "    # The mean and standard variance of training data will be reused when processing testing data.\n",
    "    #\n",
    "    # Arguments:\n",
    "    #     X: data to be processed\n",
    "    #     train: 'True' when processing training data, 'False' for testing data\n",
    "    #     specific_column: indexes of the columns that will be normalized. If 'None', all columns\n",
    "    #         will be normalized.\n",
    "    #     X_mean: mean value of training data, used when train = 'False'\n",
    "    #     X_std: standard deviation of training data, used when train = 'False'\n",
    "    # Outputs:\n",
    "    #     X: normalized data\n",
    "    #     X_mean: computed mean value of training data\n",
    "    #     X_std: computed standard deviation of training data\n",
    "\n",
    "    if specified_column == None:\n",
    "        specified_column = np.arange(X.shape[1])\n",
    "    if train:\n",
    "        #平均值.对每一列进行处理。reshape前的大小：(510,)\n",
    "        #reshape后还是？？？\n",
    "        X_mean = np.mean(X[:, specified_column] ,0).reshape(1, -1)\n",
    "        #方差\n",
    "        X_std  = np.std(X[:, specified_column], 0).reshape(1, -1)\n",
    "\n",
    "    X[:,specified_column] = (X[:, specified_column] - X_mean) / (X_std + 1e-8)\n",
    "\n",
    "    return X, X_mean, X_std"
   ],
   "metadata": {
    "collapsed": false,
    "pycharm": {
     "name": "#%%\n"
    }
   }
  },
  {
   "cell_type": "code",
   "execution_count": 3,
   "outputs": [],
   "source": [
    "X_train, X_mean, X_std = _normalize(X_train, train=True)\n",
    "X_test, _, _  = _normalize(X_test, train=False, specified_column=None, X_mean=X_mean, X_std=X_std)"
   ],
   "metadata": {
    "collapsed": false,
    "pycharm": {
     "name": "#%%\n"
    }
   }
  },
  {
   "cell_type": "code",
   "execution_count": 5,
   "outputs": [],
   "source": [
    "data_dim = X_train.shape[1]\n",
    "# Compute in-class mean\n",
    "X_train_0 = np.array([x for x, y in zip(X_train, Y_train) if y == 0])\n",
    "X_train_1 = np.array([x for x, y in zip(X_train, Y_train) if y == 1])\n",
    "\n",
    "mean_0 = np.mean(X_train_0, axis = 0)\n",
    "mean_1 = np.mean(X_train_1, axis = 0)\n",
    "\n",
    "# Compute in-class covariance\n",
    "cov_0 = np.zeros((data_dim, data_dim))\n",
    "cov_1 = np.zeros((data_dim, data_dim))\n",
    "\n",
    "for x in X_train_0:\n",
    "    cov_0 += np.dot(np.transpose([x - mean_0]), [x - mean_0]) / X_train_0.shape[0]\n",
    "for x in X_train_1:\n",
    "    cov_1 += np.dot(np.transpose([x - mean_1]), [x - mean_1]) / X_train_1.shape[0]\n",
    "\n",
    "# Shared covariance is taken as a weighted average of individual in-class covariance.\n",
    "cov = (cov_0 * X_train_0.shape[0] + cov_1 * X_train_1.shape[0]) / (X_train_0.shape[0] + X_train_1.shape[0])"
   ],
   "metadata": {
    "collapsed": false,
    "pycharm": {
     "name": "#%%\n"
    }
   }
  },
  {
   "cell_type": "code",
   "execution_count": 10,
   "outputs": [
    {
     "name": "stdout",
     "output_type": "stream",
     "text": [
      "Training accuracy: 0.8709635800648776\n"
     ]
    },
    {
     "name": "stderr",
     "output_type": "stream",
     "text": [
      "C:\\Users\\senekit\\AppData\\Local\\Temp/ipykernel_2200/1820313386.py:9: DeprecationWarning: `np.int` is a deprecated alias for the builtin `int`. To silence this warning, use `int` by itself. Doing this will not modify any behavior and is safe. When replacing `np.int`, you may wish to use e.g. `np.int64` or `np.int32` to specify the precision. If you wish to review your current use, check the release note link for additional information.\n",
      "Deprecated in NumPy 1.20; for more details and guidance: https://numpy.org/devdocs/release/1.20.0-notes.html#deprecations\n",
      "  return np.round(_f(X, w, b)).astype(np.int)\n"
     ]
    }
   ],
   "source": [
    "#计算协方差矩阵的逆\n",
    "# Compute inverse of covariance matrix.\n",
    "# Since covariance matrix may be nearly singular, np.linalg.inv() may give a large numerical error.\n",
    "# Via SVD decomposition, one can get matrix inverse efficiently and accurately.\n",
    "\n",
    "def _predict(X, w, b):\n",
    "    # This function returns a truth value prediction for each row of X\n",
    "    # by rounding the result of logistic regression function.\n",
    "    return np.round(_f(X, w, b)).astype(np.int)\n",
    "\n",
    "def _f(X, w, b):\n",
    "    # This is the logistic regression function, parameterized by w and b\n",
    "    #\n",
    "    # Arguements:\n",
    "    #     X: input data, shape = [batch_size, data_dimension]\n",
    "    #     w: weight vector, shape = [data_dimension, ]\n",
    "    #     b: bias, scalar\n",
    "    # Output:\n",
    "    #     predicted probability of each row of X being positively labeled, shape = [batch_size, ]\n",
    "    return _sigmoid(np.matmul(X, w) + b)\n",
    "\n",
    "def _accuracy(Y_pred, Y_label):\n",
    "    # This function calculates prediction accuracy\n",
    "    acc = 1 - np.mean(np.abs(Y_pred - Y_label))\n",
    "    return acc\n",
    "\n",
    "\n",
    "def _sigmoid(z):\n",
    "    # Sigmoid function can be used to calculate probability.\n",
    "    # To avoid overflow, minimum/maximum output value is set.\n",
    "    return np.clip(1 / (1.0 + np.exp(-z)), 1e-8, 1 - (1e-8))\n",
    "\n",
    "\n",
    "u, s, v = np.linalg.svd(cov, full_matrices=False)\n",
    "inv = np.matmul(v.T * 1 / s, u.T)\n",
    "\n",
    "# Directly compute weights and bias\n",
    "w = np.dot(inv, mean_0 - mean_1)\n",
    "b =  (-0.5) * np.dot(mean_0, np.dot(inv, mean_0)) + 0.5 * np.dot(mean_1, np.dot(inv, mean_1))\\\n",
    "    + np.log(float(X_train_0.shape[0]) / X_train_1.shape[0])\n",
    "\n",
    "# Compute accuracy on training set\n",
    "Y_train_pred = 1 - _predict(X_train, w, b)\n",
    "print('Training accuracy: {}'.format(_accuracy(Y_train_pred, Y_train)))"
   ],
   "metadata": {
    "collapsed": false,
    "pycharm": {
     "name": "#%%\n"
    }
   }
  },
  {
   "cell_type": "code",
   "execution_count": null,
   "outputs": [],
   "source": [],
   "metadata": {
    "collapsed": false,
    "pycharm": {
     "name": "#%%\n"
    }
   }
  }
 ],
 "metadata": {
  "kernelspec": {
   "display_name": "Python 3",
   "language": "python",
   "name": "python3"
  },
  "language_info": {
   "codemirror_mode": {
    "name": "ipython",
    "version": 2
   },
   "file_extension": ".py",
   "mimetype": "text/x-python",
   "name": "python",
   "nbconvert_exporter": "python",
   "pygments_lexer": "ipython2",
   "version": "2.7.6"
  }
 },
 "nbformat": 4,
 "nbformat_minor": 0
}